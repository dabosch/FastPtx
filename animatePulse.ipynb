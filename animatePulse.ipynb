{
 "cells": [
  {
   "cell_type": "code",
   "execution_count": null,
   "id": "79067cb5-631f-4bd6-884f-e637bcac1431",
   "metadata": {
    "tags": []
   },
   "outputs": [],
   "source": [
    "# %load animatePulse.py\n",
    "#!/usr/bin/env python3\n",
    "\"\"\"\n",
    "Created on Sun Mar 20 23:52:57 2022\n",
    "\n",
    "@author: dario\n",
    "\"\"\"\n",
    "\n",
    "from tools.io import readData, combineData, vectorizeData, \\\n",
    "    writePulse, readVOPfile, interpData, addLocalB0data, readPulse\n",
    "    \n",
    "from tools.bloch import bloch\n",
    "\n",
    "from matplotlib import pyplot as plt\n",
    "import os\n",
    "from tqdm.auto import tqdm\n",
    "\n",
    "fname = './data/dbase/GHAF-HEY2.mat'\n",
    "maskName = 'brainMask'\n",
    "dat = readData(fname,maskName=maskName)\n",
    "\n",
    "dat_v = vectorizeData(dat)\n",
    "\n",
    "[p,g] = readPulse('./UP_20deg_500us_16Tx31Rx.ini',orientation='unity')\n",
    "p *= 10\n",
    "nSteps = p.shape[0];\n",
    "lim = bloch.getLimits()\n",
    "lim['plotscale'] = 12\n",
    "lim['maxRF'] = p.abs().max()\n",
    "\n",
    "f = bloch.plotVec(p,g,dat_v,10e-6,lim)\n",
    "filename  = f'img/test.png'\n",
    "f.savefig(filename)\n",
    "\n",
    "os.system('rm ./img/anim_*.png')\n",
    "\n",
    "for i in tqdm(range(nSteps)):\n",
    "    mp = p.clone();\n",
    "    mg = g.clone();\n",
    "    mp[i+1:,:] = 0\n",
    "    mg[:,i+1:] = 0\n",
    "    f = bloch.plotVec(mp,mg,dat_v,10e-6,lim,save=True)\n",
    "    filename = f'img/anim_{i:03}.png'\n",
    "    #f = plt.gcf()\n",
    "    f.savefig(filename)\n",
    "    plt.close();\n",
    "#    pass"
   ]
  },
  {
   "cell_type": "code",
   "execution_count": null,
   "id": "14800445-b449-4c56-94ba-590de8bfe5d9",
   "metadata": {
    "tags": []
   },
   "outputs": [],
   "source": [
    "os.system('pwd')\n",
    "os.system(f'bash -c \"convert -crop 1160x1070+00+60 +repage -delay 20 -loop 0   ./img/anim_{{000..{nSteps-2:003}}}.png ./img/animated.gif\"')\n",
    "os.system(f'convert -crop 1160x1070+00+60 +repage img/anim_{nSteps-1:03}.png ./img/temp.png')\n",
    "os.system(f'convert ./img/animated.gif -delay 300 -loop 0 img/temp.png ./img/animated.gif')\n",
    "os.system('convert ./img/animated.gif ./img/animated.mp4')\n",
    "# for i in tqdm(range(nSteps)):\n",
    "#     os.system(f'convert -crop 1160x0+00+60 +repage img/anim_{i:03}.png /tmp/temp.png')\n",
    "#     if i==0:\n",
    "#         os.system(f'convert -delay 20 -loop 0 /tmp/temp.png /tmp/animated.gif')\n",
    "#     elif i==nSteps-1:\n",
    "#         os.system(f'convert /tmp/animated.gif -delay 300 -loop 0 -crop 1160x0+00+60 +repage img/anim_{i:03}.png /tmp/animated.gif')\n",
    "#     else:\n",
    "#         os.system(f'convert /tmp/animated.gif -delay 20 -loop 0  /tmp/temp.png /tmp/animated.gif')\n",
    "# os.system('mv /tmp/animated.gif ./img/animated.gif')"
   ]
  },
  {
   "cell_type": "code",
   "execution_count": null,
   "id": "c7b1c9a2-61c3-4601-bd0f-35e26b7a288c",
   "metadata": {},
   "outputs": [],
   "source": []
  }
 ],
 "metadata": {
  "kernelspec": {
   "display_name": "Python 3 (ipykernel)",
   "language": "python",
   "name": "python3"
  },
  "language_info": {
   "codemirror_mode": {
    "name": "ipython",
    "version": 3
   },
   "file_extension": ".py",
   "mimetype": "text/x-python",
   "name": "python",
   "nbconvert_exporter": "python",
   "pygments_lexer": "ipython3",
   "version": "3.11.6"
  }
 },
 "nbformat": 4,
 "nbformat_minor": 5
}
