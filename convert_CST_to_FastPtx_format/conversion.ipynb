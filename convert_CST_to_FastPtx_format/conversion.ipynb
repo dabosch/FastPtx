{
 "cells": [
  {
   "cell_type": "code",
   "execution_count": null,
   "metadata": {},
   "outputs": [],
   "source": [
    "from tools import readData\n",
    "from scipy.io import savemat\n",
    "import numpy as np"
   ]
  },
  {
   "cell_type": "code",
   "execution_count": null,
   "metadata": {},
   "outputs": [],
   "source": [
    "datadir = 'inputData/CSTdata'\n",
    "data = readData(datadir,nCh=8)"
   ]
  },
  {
   "cell_type": "code",
   "execution_count": null,
   "metadata": {},
   "outputs": [],
   "source": [
    "\n",
    "out = dict()\n",
    "out['nT_per_V'] = data['B_plus'] * 1e9\n",
    "out['deltaB0_Hz'] = data['deltaB0_Hz']\n",
    "out['meta'] = dict()\n",
    "out['meta']['voxSz'] = data['stepSize']/1000\n",
    "out['meta']['isocenter'] = np.zeros(3)\n",
    "for i in range(3):\n",
    "    out['meta']['isocenter'][i] = int(out['nT_per_V'].shape[i]/2)\n",
    "out['brainMask'] = data['brain_mask']\n"
   ]
  },
  {
   "cell_type": "code",
   "execution_count": null,
   "metadata": {},
   "outputs": [],
   "source": [
    "savemat('output.mat',out)"
   ]
  },
  {
   "cell_type": "code",
   "execution_count": null,
   "metadata": {},
   "outputs": [],
   "source": []
  }
 ],
 "metadata": {
  "kernelspec": {
   "display_name": "env",
   "language": "python",
   "name": "python3"
  },
  "language_info": {
   "codemirror_mode": {
    "name": "ipython",
    "version": 3
   },
   "file_extension": ".py",
   "mimetype": "text/x-python",
   "name": "python",
   "nbconvert_exporter": "python",
   "pygments_lexer": "ipython3",
   "version": "3.10.12"
  }
 },
 "nbformat": 4,
 "nbformat_minor": 2
}
