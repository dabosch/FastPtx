{
 "cells": [
  {
   "cell_type": "code",
   "execution_count": null,
   "id": "73eca3f9-fe2a-4090-8a0f-f7fb6a2f9994",
   "metadata": {},
   "outputs": [],
   "source": [
    "%run calc_smallFA_paper.py"
   ]
  },
  {
   "cell_type": "code",
   "execution_count": null,
   "id": "4d6e3f0c-290c-4a59-89ae-77f1a43ab10c",
   "metadata": {},
   "outputs": [],
   "source": []
  }
 ],
 "metadata": {
  "kernelspec": {
   "display_name": "Python 3 (ipykernel)",
   "language": "python",
   "name": "python3"
  },
  "language_info": {
   "codemirror_mode": {
    "name": "ipython",
    "version": 3
   },
   "file_extension": ".py",
   "mimetype": "text/x-python",
   "name": "python",
   "nbconvert_exporter": "python",
   "pygments_lexer": "ipython3",
   "version": "3.11.6"
  }
 },
 "nbformat": 4,
 "nbformat_minor": 5
}
