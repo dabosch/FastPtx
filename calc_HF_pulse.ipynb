{
 "cells": [
  {
   "cell_type": "code",
   "execution_count": null,
   "id": "601628c8-9cf1-41f1-b963-b1244909e981",
   "metadata": {},
   "outputs": [],
   "source": [
    "%run calc_HF_pulse.py"
   ]
  },
  {
   "cell_type": "code",
   "execution_count": null,
   "id": "5a3fc916-3b63-41ba-b652-43b9f8bb81ed",
   "metadata": {},
   "outputs": [],
   "source": []
  }
 ],
 "metadata": {
  "kernelspec": {
   "display_name": "Python 3 (ipykernel)",
   "language": "python",
   "name": "python3"
  },
  "language_info": {
   "codemirror_mode": {
    "name": "ipython",
    "version": 3
   },
   "file_extension": ".py",
   "mimetype": "text/x-python",
   "name": "python",
   "nbconvert_exporter": "python",
   "pygments_lexer": "ipython3",
   "version": "3.11.6"
  }
 },
 "nbformat": 4,
 "nbformat_minor": 5
}
