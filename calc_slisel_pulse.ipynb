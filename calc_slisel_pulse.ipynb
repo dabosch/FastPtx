{
 "cells": [
  {
   "cell_type": "code",
   "execution_count": null,
   "id": "2cd5246b-f76b-4cb4-8774-5d1d313c76d2",
   "metadata": {},
   "outputs": [],
   "source": [
    "%run calc_slisel_pulse.py"
   ]
  },
  {
   "cell_type": "code",
   "execution_count": null,
   "id": "ac5f983f-0d31-4f91-bb03-5ffd01957c26",
   "metadata": {},
   "outputs": [],
   "source": []
  }
 ],
 "metadata": {
  "kernelspec": {
   "display_name": "Python 3 (ipykernel)",
   "language": "python",
   "name": "python3"
  },
  "language_info": {
   "codemirror_mode": {
    "name": "ipython",
    "version": 3
   },
   "file_extension": ".py",
   "mimetype": "text/x-python",
   "name": "python",
   "nbconvert_exporter": "python",
   "pygments_lexer": "ipython3",
   "version": "3.11.6"
  }
 },
 "nbformat": 4,
 "nbformat_minor": 5
}
